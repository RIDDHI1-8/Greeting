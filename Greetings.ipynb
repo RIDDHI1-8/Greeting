{
 "cells": [
  {
   "cell_type": "code",
   "execution_count": 3,
   "id": "3259433b",
   "metadata": {},
   "outputs": [
    {
     "name": "stdout",
     "output_type": "stream",
     "text": [
      "What's your name: Riddhi\n",
      "Hello Riddhi Good Afternoon!\n",
      "Have a nice day!\n"
     ]
    }
   ],
   "source": [
    "import datetime\n",
    "time1 = datetime.datetime.now()\n",
    "time1.hour\n",
    "\n",
    "name = input('What\\'s your name: ')\n",
    "\n",
    "\n",
    "if time1.hour<12:\n",
    "    print('Hello' , name, 'Good Morning!')\n",
    "elif time1.hour>=12 and time1.hour<18:\n",
    "    print('Hello' , name, 'Good Afternoon!')\n",
    "elif time1.hour>=18 and time1.hour<20:\n",
    "    print('Hello' , name, 'Good Evening!')\n",
    "else:\n",
    "    print('Hello' , name, 'Good Night!')\n",
    "print('Have a nice day!')"
   ]
  },
  {
   "cell_type": "code",
   "execution_count": null,
   "id": "059cf09c",
   "metadata": {},
   "outputs": [],
   "source": []
  }
 ],
 "metadata": {
  "kernelspec": {
   "display_name": "Python 3 (ipykernel)",
   "language": "python",
   "name": "python3"
  },
  "language_info": {
   "codemirror_mode": {
    "name": "ipython",
    "version": 3
   },
   "file_extension": ".py",
   "mimetype": "text/x-python",
   "name": "python",
   "nbconvert_exporter": "python",
   "pygments_lexer": "ipython3",
   "version": "3.11.0"
  }
 },
 "nbformat": 4,
 "nbformat_minor": 5
}
